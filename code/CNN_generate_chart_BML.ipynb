{
 "cells": [
  {
   "cell_type": "code",
   "execution_count": 2,
   "metadata": {},
   "outputs": [],
   "source": [
    "import warnings\n",
    "warnings.filterwarnings('ignore')"
   ]
  },
  {
   "cell_type": "code",
   "execution_count": 3,
   "metadata": {},
   "outputs": [
    {
     "name": "stderr",
     "output_type": "stream",
     "text": [
      "/Users/HPhuc/miniconda3/lib/python3.8/site-packages/mpl_finance.py:16: DeprecationWarning: \n",
      "\n",
      "  =================================================================\n",
      "\n",
      "   WARNING: `mpl_finance` is deprecated:\n",
      "\n",
      "    Please use `mplfinance` instead (no hyphen, no underscore).\n",
      "\n",
      "    To install: `pip install --upgrade mplfinance` \n",
      "\n",
      "   For more information, see: https://pypi.org/project/mplfinance/\n",
      "\n",
      "  =================================================================\n",
      "\n",
      "  __warnings.warn('\\n\\n  ================================================================='+\n"
     ]
    }
   ],
   "source": [
    "import os\n",
    "import math\n",
    "import matplotlib.pyplot as plt\n",
    "from mpl_finance import candlestick2_ohlc\n",
    "import pandas as pd\n",
    "import numpy as np"
   ]
  },
  {
   "cell_type": "code",
   "execution_count": 4,
   "metadata": {},
   "outputs": [],
   "source": [
    "root_dir = ''"
   ]
  },
  {
   "cell_type": "code",
   "execution_count": 5,
   "metadata": {},
   "outputs": [
    {
     "name": "stdout",
     "output_type": "stream",
     "text": [
      "Number of rows and columns: (2767, 7)\n"
     ]
    },
    {
     "data": {
      "text/html": [
       "<div>\n",
       "<style scoped>\n",
       "    .dataframe tbody tr th:only-of-type {\n",
       "        vertical-align: middle;\n",
       "    }\n",
       "\n",
       "    .dataframe tbody tr th {\n",
       "        vertical-align: top;\n",
       "    }\n",
       "\n",
       "    .dataframe thead th {\n",
       "        text-align: right;\n",
       "    }\n",
       "</style>\n",
       "<table border=\"1\" class=\"dataframe\">\n",
       "  <thead>\n",
       "    <tr style=\"text-align: right;\">\n",
       "      <th></th>\n",
       "      <th>Date</th>\n",
       "      <th>Open</th>\n",
       "      <th>High</th>\n",
       "      <th>Low</th>\n",
       "      <th>Close</th>\n",
       "      <th>Adj Close</th>\n",
       "      <th>Volume</th>\n",
       "    </tr>\n",
       "  </thead>\n",
       "  <tbody>\n",
       "    <tr>\n",
       "      <th>0</th>\n",
       "      <td>1/2/09</td>\n",
       "      <td>8772.250000</td>\n",
       "      <td>9065.280273</td>\n",
       "      <td>8760.780273</td>\n",
       "      <td>9034.690430</td>\n",
       "      <td>9034.690430</td>\n",
       "      <td>213700000</td>\n",
       "    </tr>\n",
       "    <tr>\n",
       "      <th>1</th>\n",
       "      <td>1/5/09</td>\n",
       "      <td>9027.129883</td>\n",
       "      <td>9034.370117</td>\n",
       "      <td>8892.360352</td>\n",
       "      <td>8952.889648</td>\n",
       "      <td>8952.889648</td>\n",
       "      <td>233760000</td>\n",
       "    </tr>\n",
       "    <tr>\n",
       "      <th>2</th>\n",
       "      <td>1/6/09</td>\n",
       "      <td>8954.570313</td>\n",
       "      <td>9088.059570</td>\n",
       "      <td>8940.950195</td>\n",
       "      <td>9015.099609</td>\n",
       "      <td>9015.099609</td>\n",
       "      <td>215410000</td>\n",
       "    </tr>\n",
       "    <tr>\n",
       "      <th>3</th>\n",
       "      <td>1/7/09</td>\n",
       "      <td>8996.940430</td>\n",
       "      <td>8996.940430</td>\n",
       "      <td>8719.919922</td>\n",
       "      <td>8769.700195</td>\n",
       "      <td>8769.700195</td>\n",
       "      <td>266710000</td>\n",
       "    </tr>\n",
       "    <tr>\n",
       "      <th>4</th>\n",
       "      <td>1/8/09</td>\n",
       "      <td>8769.940430</td>\n",
       "      <td>8770.019531</td>\n",
       "      <td>8651.190430</td>\n",
       "      <td>8742.459961</td>\n",
       "      <td>8742.459961</td>\n",
       "      <td>226620000</td>\n",
       "    </tr>\n",
       "  </tbody>\n",
       "</table>\n",
       "</div>"
      ],
      "text/plain": [
       "     Date         Open         High          Low        Close    Adj Close  \\\n",
       "0  1/2/09  8772.250000  9065.280273  8760.780273  9034.690430  9034.690430   \n",
       "1  1/5/09  9027.129883  9034.370117  8892.360352  8952.889648  8952.889648   \n",
       "2  1/6/09  8954.570313  9088.059570  8940.950195  9015.099609  9015.099609   \n",
       "3  1/7/09  8996.940430  8996.940430  8719.919922  8769.700195  8769.700195   \n",
       "4  1/8/09  8769.940430  8770.019531  8651.190430  8742.459961  8742.459961   \n",
       "\n",
       "      Volume  \n",
       "0  213700000  \n",
       "1  233760000  \n",
       "2  215410000  \n",
       "3  266710000  \n",
       "4  226620000  "
      ]
     },
     "execution_count": 5,
     "metadata": {},
     "output_type": "execute_result"
    }
   ],
   "source": [
    "df=pd.read_csv('dji_2009-2019.csv', parse_dates=True)\n",
    "print('Number of rows and columns:', df.shape)\n",
    "length = df.shape[0]\n",
    "df.head()"
   ]
  },
  {
   "cell_type": "code",
   "execution_count": 6,
   "metadata": {},
   "outputs": [],
   "source": [
    "seq_length = 30\n",
    "step_length = 5"
   ]
  },
  {
   "cell_type": "code",
   "execution_count": 7,
   "metadata": {},
   "outputs": [],
   "source": [
    "df['target_log'] = np.log(df['Close'].shift(-step_length) / df['Close'])"
   ]
  },
  {
   "cell_type": "code",
   "execution_count": 8,
   "metadata": {},
   "outputs": [
    {
     "data": {
      "text/plain": [
       "((1660, 9), (553, 9), (554, 9))"
      ]
     },
     "execution_count": 8,
     "metadata": {},
     "output_type": "execute_result"
    }
   ],
   "source": [
    "train_df = df[:int(length*0.6)].copy()\n",
    "train_df.reset_index(inplace=True)\n",
    "val_df = df[int(length*0.6):int(length*0.8)].copy()\n",
    "val_df.reset_index(inplace=True)\n",
    "test_df = df.loc[int(length*0.8):].copy()\n",
    "test_df.reset_index(inplace=True)\n",
    "train_df.shape, val_df.shape, test_df.shape"
   ]
  },
  {
   "cell_type": "code",
   "execution_count": 9,
   "metadata": {},
   "outputs": [],
   "source": [
    "def create_candlebar(df, setname, draw_fnc):\n",
    "    target = []\n",
    "    filename = []\n",
    "    if not os.path.exists(root_dir + 'data/charts/' + setname):\n",
    "        os.makedirs(root_dir + 'data/charts/' + setname)\n",
    "    for i in range(df.shape[0] - step_length - seq_length):\n",
    "        print(i+1, end='\\r')\n",
    "        target.append(df.loc[i+seq_length-1, 'target_log'])\n",
    "        slices = df[i: i+seq_length]\n",
    "        draw_fnc(slices)\n",
    "\n",
    "        plt.savefig(root_dir + 'data/charts/' + setname + '/candlebar_'\\\n",
    "                    + str(i) + '-' + str(i+seq_length-1) + '.png')\n",
    "        filename.append('candlebar_' + str(i) + '-' + str(i+seq_length-1) + '.png')\n",
    "        plt.close('all')\n",
    "\n",
    "        #break\n",
    "    pd.DataFrame({'filename': filename,\n",
    "                  'target': target}).to_csv(root_dir + 'data/charts/' + setname + '_target.csv', index=False)\n"
   ]
  },
  {
   "cell_type": "code",
   "execution_count": 10,
   "metadata": {},
   "outputs": [],
   "source": [
    "def draw_candlestick(df):\n",
    "    #plot ohcl chart\n",
    "    plt.figure(figsize=(1.12, 1.12), dpi=100)\n",
    "    candlestick2_ohlc(plt.subplot(211), df['Open'].values, df['High'].values,\n",
    "                    df['Low'].values, df['Close'].values, width=0.6,\n",
    "                    colorup='b', colordown='r', alpha=1)\n",
    "    plt.axis('off')\n",
    "\n",
    "    plt.subplot(212)\n",
    "    plt.bar(range(30), df['Volume'].values, color='g')\n",
    "    plt.axis('off')\n",
    "    plt.tight_layout()\n",
    "\n",
    "def draw_line_chart(df):\n",
    "    # TODO:\n",
    "    plt.figure(figsize=(1.12, 1.12), dpi=100)\n",
    "    \n",
    "    plt.subplot(211)\n",
    "    plt.plot(df['High'])\n",
    "    plt.plot(df['Low'])\n",
    "    \n",
    "    plt.axis('off')\n",
    "\n",
    "    plt.subplot(212)\n",
    "    plt.bar(range(30), df['Volume'].values, color='g')\n",
    "    plt.axis('off')\n",
    "    plt.tight_layout()\n",
    "    pass\n",
    "\n",
    "def draw_hi_low_mid(df):\n",
    "    # TODO:\n",
    "    plt.figure(figsize=(1.12, 1.12), dpi=100)\n",
    "    plt.subplot(211)\n",
    "\n",
    "    aver_value = ((df['High'] - df['Low'])/2) + df['Low']\n",
    "    plt.plot(df['High'], color='red')\n",
    "    plt.plot(df['Low'], color='blue')\n",
    "    plt.plot(aver_value)\n",
    "    \n",
    "    plt.axis('off')\n",
    "    plt.subplot(212)\n",
    "    plt.bar(range(30), df['Volume'].values, color='g')\n",
    "    plt.axis('off')\n",
    "    plt.tight_layout()\n",
    "    pass\n",
    "\n",
    "\n",
    "def draw_f_line_chart(df):\n",
    "    \n",
    "    plt.figure(figsize=(11.2, 11.2), dpi=10)\n",
    "    ax=plt.subplot(211)\n",
    "\n",
    "    aver_value = ((df['High'] - df['Low'])/2) + df['Low']\n",
    "    y1=df['High']\n",
    "    y2=df['Low']\n",
    "    y3=aver_value\n",
    "    \n",
    "    ax.fill_between(range(30),y1, y3, where=y1 > y3, facecolor='red')\n",
    "    ax.fill_between(range(30),y2, y3, where=y2 < y3, facecolor='blue')\n",
    "    \n",
    "    plt.axis('off')\n",
    "    plt.subplot(212)\n",
    "    plt.bar(range(30), df['Volume'].values, color='g')\n",
    "    plt.axis('off')\n",
    "    plt.tight_layout()\n",
    "    \n",
    "\n",
    "    pass"
   ]
  },
  {
   "cell_type": "code",
   "execution_count": 14,
   "metadata": {},
   "outputs": [
    {
     "data": {
      "image/png": "[encoded data removed]",
      "text/plain": [
       "<Figure size 112x112 with 2 Axes>"
      ]
     },
     "metadata": {
      "needs_background": "light"
     },
     "output_type": "display_data"
    }
   ],
   "source": [
    "draw_candlestick(train_df[:30])"
   ]
  },
  {
   "cell_type": "code",
   "execution_count": 15,
   "metadata": {},
   "outputs": [
    {
     "data": {
      "image/png": "[encoded data removed]",
      "text/plain": [
       "<Figure size 112x112 with 2 Axes>"
      ]
     },
     "metadata": {
      "needs_background": "light"
     },
     "output_type": "display_data"
    }
   ],
   "source": [
    "draw_line_chart(train_df[:30])"
   ]
  },
  {
   "cell_type": "code",
   "execution_count": 16,
   "metadata": {},
   "outputs": [
    {
     "data": {
      "image/png": "[encoded data removed]",
      "text/plain": [
       "<Figure size 112x112 with 2 Axes>"
      ]
     },
     "metadata": {
      "needs_background": "light"
     },
     "output_type": "display_data"
    }
   ],
   "source": [
    "draw_f_line_chart(train_df[:30])"
   ]
  },
  {
   "cell_type": "code",
   "execution_count": 17,
   "metadata": {},
   "outputs": [
    {
     "name": "stdout",
     "output_type": "stream",
     "text": [
      "1625\r"
     ]
    }
   ],
   "source": [
    "create_candlebar(train_df, 'candlestick', draw_fnc=draw_candlestick)"
   ]
  },
  {
   "cell_type": "code",
   "execution_count": 18,
   "metadata": {},
   "outputs": [
    {
     "name": "stdout",
     "output_type": "stream",
     "text": [
      "1625\r"
     ]
    }
   ],
   "source": [
    "create_candlebar(train_df, 'linechart', draw_fnc=draw_line_chart)"
   ]
  },
  {
   "cell_type": "code",
   "execution_count": 19,
   "metadata": {},
   "outputs": [
    {
     "name": "stdout",
     "output_type": "stream",
     "text": [
      "1625\r"
     ]
    }
   ],
   "source": [
    "create_candlebar(train_df, 'f_linechart', draw_fnc=draw_line_chart)"
   ]
  },
  {
   "cell_type": "code",
   "execution_count": null,
   "metadata": {},
   "outputs": [],
   "source": []
  }
 ],
 "metadata": {
  "kernelspec": {
   "display_name": "Python 3",
   "language": "python",
   "name": "python3"
  },
  "language_info": {
   "codemirror_mode": {
    "name": "ipython",
    "version": 3
   },
   "file_extension": ".py",
   "mimetype": "text/x-python",
   "name": "python",
   "nbconvert_exporter": "python",
   "pygments_lexer": "ipython3",
   "version": "3.8.3"
  }
 },
 "nbformat": 4,
 "nbformat_minor": 4
}
