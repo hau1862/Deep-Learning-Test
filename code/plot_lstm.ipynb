{
 "cells": [
  {
   "cell_type": "code",
   "execution_count": 1,
   "metadata": {},
   "outputs": [],
   "source": [
    "import warnings\n",
    "warnings.filterwarnings('ignore')"
   ]
  },
  {
   "cell_type": "code",
   "execution_count": 2,
   "metadata": {},
   "outputs": [],
   "source": [
    "root_dir = '/root/hoai_workspace/stock-price-prediction/'"
   ]
  },
  {
   "cell_type": "markdown",
   "metadata": {
    "id": "Bik4VKhdFL9p"
   },
   "source": [
    "# Import"
   ]
  },
  {
   "cell_type": "code",
   "execution_count": 3,
   "metadata": {},
   "outputs": [],
   "source": [
    "import numpy as np\n",
    "import pandas as pd\n",
    "from sklearn.metrics import mean_squared_error"
   ]
  },
  {
   "cell_type": "code",
   "execution_count": 4,
   "metadata": {},
   "outputs": [],
   "source": [
    "import torch\n",
    "from torch import nn\n",
    "import torch.nn.functional as F\n",
    "from torch.utils.data import DataLoader, random_split\n",
    "import pytorch_lightning as pl\n",
    "from pytorch_lightning import Trainer, seed_everything\n",
    "from pytorch_lightning.loggers.csv_logs import CSVLogger\n",
    "\n",
    "# Plotting\n",
    "%matplotlib inline\n",
    "import matplotlib.pyplot as plt"
   ]
  },
  {
   "cell_type": "code",
   "execution_count": 72,
   "metadata": {},
   "outputs": [],
   "source": [
    "class StockTimeSeriesDataset(object):\n",
    "    def __init__(self, df, history_len, step_len):\n",
    "        self.history_len = history_len\n",
    "        self.step_len = step_len\n",
    "\n",
    "        df['close_log'] = np.log(df['Close'] / df['Close'].shift(1))\n",
    "        df['vol_log'] = np.log(df['Volume'] / df['Volume'].shift(1))\n",
    "        df['target_log'] = np.log(df['Close'].shift(-step_len) / df['Close'])\n",
    "        scaler = MinMaxScaler()\n",
    "        df.Date = pd.to_datetime(df.Date)\n",
    "        df['dayofweek'] = df.Date.dt.dayofweek\n",
    "        df['dayofweek'] = scaler.fit_transform(df['dayofweek'].values.reshape(-1, 1))\n",
    "        history = []\n",
    "        target = []\n",
    "        for i in range(history_len, df.shape[0]-step_len):\n",
    "            history.append(df[i-history_len+1: i][['close_log', 'vol_log', 'dayofweek']].values)\n",
    "            target.append(df.loc[i-1, 'target_log'])\n",
    "        history, target = np.array(history), np.array(target)\n",
    "        history = np.reshape(history, (history.shape[0], history.shape[1], 3))\n",
    "        self.history = history\n",
    "        self.target = target\n",
    "\n",
    "    def __getitem__(self, idx):\n",
    "        history = torch.tensor(self.history[idx], dtype=torch.float)        \n",
    "        target = torch.tensor([self.target[idx]], dtype=torch.float)\n",
    "\n",
    "        return history, target\n",
    "\n",
    "    def __len__(self):\n",
    "        return self.history.shape[0]"
   ]
  },
  {
   "cell_type": "code",
   "execution_count": 74,
   "metadata": {},
   "outputs": [],
   "source": [
    "class LSTMRegressor(pl.LightningModule):\n",
    "    '''\n",
    "    Standard PyTorch Lightning module:\n",
    "    https://pytorch-lightning.readthedocs.io/en/latest/lightning_module.html\n",
    "    '''\n",
    "    def __init__(self):\n",
    "        super(LSTMRegressor, self).__init__()\n",
    "        p = dict(\n",
    "            seq_len = 29,\n",
    "            batch_size = 64, \n",
    "            criterion = nn.MSELoss(),\n",
    "            max_epochs = 10,\n",
    "            n_features = 3,\n",
    "            hidden_size = 50,\n",
    "            num_layers = 1,\n",
    "            dropout = 0.8,\n",
    "            learning_rate = 0.01,\n",
    "        )\n",
    "        self.n_features = p['n_features']\n",
    "        self.hidden_size = p['hidden_size']\n",
    "        self.seq_len = p['seq_len']\n",
    "        self.batch_size = p['batch_size']\n",
    "        self.num_layers = p['num_layers']\n",
    "        self.dropout = p['dropout']\n",
    "        self.criterion = p['criterion']\n",
    "        self.learning_rate = p['learning_rate']\n",
    "\n",
    "        self.lstm = nn.LSTM(input_size=p['n_features'], \n",
    "                            hidden_size=p['hidden_size'],\n",
    "                            num_layers=p['num_layers'], \n",
    "                            dropout=p['dropout'], \n",
    "                            batch_first=True)\n",
    "        self.linear = nn.Linear(p['hidden_size'], 1)\n",
    "        \n",
    "    def forward(self, x):\n",
    "        # lstm_out = (batch_size, seq_len, hidden_size)\n",
    "        lstm_out, _ = self.lstm(x)\n",
    "        y_pred = self.linear(lstm_out[:,-1])\n",
    "        return y_pred\n",
    "    \n",
    "    def configure_optimizers(self):\n",
    "        return torch.optim.Adam(self.parameters(), lr=self.learning_rate)\n",
    "\n",
    "    def training_step(self, batch, batch_idx):\n",
    "        x, y = batch\n",
    "        y_hat = self(x)\n",
    "        loss = self.criterion(y_hat, y)\n",
    "        # result = pl.TrainResult(loss)\n",
    "        # result.log('train_loss', loss)\n",
    "        # Logging to TensorBoard by default\n",
    "        self.log('train_loss', loss)\n",
    "        return loss\n",
    "\n",
    "    def validation_step(self, batch, batch_idx):\n",
    "        x, y = batch\n",
    "        y_hat = self(x)\n",
    "        loss = self.criterion(y_hat, y)\n",
    "        # result = pl.EvalResult(checkpoint_on=loss)\n",
    "        # result.log('val_loss', loss)\n",
    "        # Logging to TensorBoard by default\n",
    "        self.log('val_loss', loss)\n",
    "        return loss\n",
    "    \n",
    "    def test_step(self, batch, batch_idx):\n",
    "        x, y = batch\n",
    "        y_hat = self(x)\n",
    "        loss = self.criterion(y_hat, y)\n",
    "        # result = pl.EvalResult()\n",
    "        # result.log('test_loss', loss)\n",
    "        self.log('test_loss', loss)\n",
    "        return loss"
   ]
  },
  {
   "cell_type": "code",
   "execution_count": 75,
   "metadata": {},
   "outputs": [],
   "source": [
    "p = dict(\n",
    "    seq_len = 29,\n",
    "    batch_size = 64, \n",
    "    criterion = nn.MSELoss(),\n",
    "    max_epochs = 10,\n",
    "    n_features = 3,\n",
    "    hidden_size = 50,\n",
    "    num_layers = 1,\n",
    "    dropout = 0.8,\n",
    "    learning_rate = 0.01,\n",
    ")"
   ]
  },
  {
   "cell_type": "code",
   "execution_count": 76,
   "metadata": {},
   "outputs": [],
   "source": [
    "def plot_price(model, df):\n",
    "    # Get predictions\n",
    "    # transform=transforms.Compose([transforms.ToTensor(),\n",
    "    #                               transforms.Normalize((0.5, 0.5, 0.5), (0.5, 0.5, 0.5))])\n",
    "    dataset = StockTimeSeriesDataset(df, 30, 5)\n",
    "    dataloader = torch.utils.data.DataLoader(dataset, batch_size=128, shuffle=False, num_workers=2)\n",
    "    predictions = None\n",
    "    for i, batch in enumerate(dataloader):\n",
    "        X, y = batch\n",
    "        output = model(X)\n",
    "        if predictions is None:\n",
    "            predictions = output.cpu().detach().numpy()\n",
    "        else:\n",
    "            predictions = np.row_stack([predictions, output.cpu().detach().numpy()])\n",
    "    # Get target price\n",
    "    seq_length = 30\n",
    "    step_length = 5\n",
    "    df['target_log'] = np.log(df['Close'].shift(-step_length) / df['Close'])\n",
    "    length = df.shape[0]\n",
    "    target_price = df[seq_length+step_length:df.shape[0]]['Close']\n",
    "    inv = df[seq_length:df.shape[0]-step_length]['Close'].values.reshape(-1, 1)\n",
    "    predicted_price = inv * (np.exp(1) ** predictions)\n",
    "\n",
    "    # Visualising the results\n",
    "    date = df[seq_length+step_length:df.shape[0]].Date.values\n",
    "    plt.figure(figsize=(20,10))\n",
    "    plt.plot(date, target_price, color = 'red', label = 'Target Price')\n",
    "    plt.plot(date, predicted_price, color = 'blue', label = 'Predicted Price')\n",
    "    plt.xticks(np.arange(0,len(predicted_price),100))\n",
    "    plt.title('TRAIN SET: DJIA Stock Price Prediction')\n",
    "    plt.xlabel('Time')\n",
    "    plt.ylabel('DJIA Stock Price')\n",
    "    plt.legend()\n",
    "    plt.show()\n",
    "    print(f'RMSE: {mean_squared_error(target_price, predicted_price, squared=False)}')"
   ]
  },
  {
   "cell_type": "code",
   "execution_count": 77,
   "metadata": {},
   "outputs": [
    {
     "data": {
      "text/html": [
       "<div>\n",
       "<style scoped>\n",
       "    .dataframe tbody tr th:only-of-type {\n",
       "        vertical-align: middle;\n",
       "    }\n",
       "\n",
       "    .dataframe tbody tr th {\n",
       "        vertical-align: top;\n",
       "    }\n",
       "\n",
       "    .dataframe thead th {\n",
       "        text-align: right;\n",
       "    }\n",
       "</style>\n",
       "<table border=\"1\" class=\"dataframe\">\n",
       "  <thead>\n",
       "    <tr style=\"text-align: right;\">\n",
       "      <th></th>\n",
       "      <th>Date</th>\n",
       "      <th>Open</th>\n",
       "      <th>High</th>\n",
       "      <th>Low</th>\n",
       "      <th>Close</th>\n",
       "      <th>Adj Close</th>\n",
       "      <th>Volume</th>\n",
       "      <th>close_log</th>\n",
       "    </tr>\n",
       "  </thead>\n",
       "  <tbody>\n",
       "    <tr>\n",
       "      <th>0</th>\n",
       "      <td>2009-01-02</td>\n",
       "      <td>8772.250000</td>\n",
       "      <td>9065.280273</td>\n",
       "      <td>8760.780273</td>\n",
       "      <td>9034.690430</td>\n",
       "      <td>9034.690430</td>\n",
       "      <td>213700000</td>\n",
       "      <td>NaN</td>\n",
       "    </tr>\n",
       "    <tr>\n",
       "      <th>1</th>\n",
       "      <td>2009-01-05</td>\n",
       "      <td>9027.129883</td>\n",
       "      <td>9034.370117</td>\n",
       "      <td>8892.360352</td>\n",
       "      <td>8952.889648</td>\n",
       "      <td>8952.889648</td>\n",
       "      <td>233760000</td>\n",
       "      <td>-0.009095</td>\n",
       "    </tr>\n",
       "    <tr>\n",
       "      <th>2</th>\n",
       "      <td>2009-01-06</td>\n",
       "      <td>8954.570313</td>\n",
       "      <td>9088.059570</td>\n",
       "      <td>8940.950195</td>\n",
       "      <td>9015.099609</td>\n",
       "      <td>9015.099609</td>\n",
       "      <td>215410000</td>\n",
       "      <td>0.006925</td>\n",
       "    </tr>\n",
       "    <tr>\n",
       "      <th>3</th>\n",
       "      <td>2009-01-07</td>\n",
       "      <td>8996.940430</td>\n",
       "      <td>8996.940430</td>\n",
       "      <td>8719.919922</td>\n",
       "      <td>8769.700195</td>\n",
       "      <td>8769.700195</td>\n",
       "      <td>266710000</td>\n",
       "      <td>-0.027598</td>\n",
       "    </tr>\n",
       "    <tr>\n",
       "      <th>4</th>\n",
       "      <td>2009-01-08</td>\n",
       "      <td>8769.940430</td>\n",
       "      <td>8770.019531</td>\n",
       "      <td>8651.190430</td>\n",
       "      <td>8742.459961</td>\n",
       "      <td>8742.459961</td>\n",
       "      <td>226620000</td>\n",
       "      <td>-0.003111</td>\n",
       "    </tr>\n",
       "  </tbody>\n",
       "</table>\n",
       "</div>"
      ],
      "text/plain": [
       "         Date         Open         High          Low        Close  \\\n",
       "0  2009-01-02  8772.250000  9065.280273  8760.780273  9034.690430   \n",
       "1  2009-01-05  9027.129883  9034.370117  8892.360352  8952.889648   \n",
       "2  2009-01-06  8954.570313  9088.059570  8940.950195  9015.099609   \n",
       "3  2009-01-07  8996.940430  8996.940430  8719.919922  8769.700195   \n",
       "4  2009-01-08  8769.940430  8770.019531  8651.190430  8742.459961   \n",
       "\n",
       "     Adj Close     Volume  close_log  \n",
       "0  9034.690430  213700000        NaN  \n",
       "1  8952.889648  233760000  -0.009095  \n",
       "2  9015.099609  215410000   0.006925  \n",
       "3  8769.700195  266710000  -0.027598  \n",
       "4  8742.459961  226620000  -0.003111  "
      ]
     },
     "execution_count": 77,
     "metadata": {},
     "output_type": "execute_result"
    }
   ],
   "source": [
    "df = pd.read_csv(root_dir + 'data/dji_2009-2019.csv')\n",
    "df['close_log'] = np.log(df['Close'] / df['Close'].shift(1))\n",
    "df.head()"
   ]
  },
  {
   "cell_type": "code",
   "execution_count": 78,
   "metadata": {},
   "outputs": [],
   "source": [
    "length = df.shape[0]\n",
    "train_df = df[:int(length*0.6)].copy()\n",
    "train_df.reset_index(inplace=True)\n",
    "val_df = df[int(length*0.6):int(length*0.8)].copy()\n",
    "val_df.reset_index(inplace=True)\n",
    "test_df = df[int(length*0.8):].copy()\n",
    "test_df.reset_index(inplace=True)"
   ]
  },
  {
   "cell_type": "code",
   "execution_count": 103,
   "metadata": {},
   "outputs": [],
   "source": [
    "checkpoint = 'hoai_workspace/stock-price-prediction/model/lstm_1226_3/dji-volume-dow-notscale-epoch=22-val_loss=0.000225315.ckpt'"
   ]
  },
  {
   "cell_type": "code",
   "execution_count": 104,
   "metadata": {},
   "outputs": [],
   "source": [
    "model = LSTMRegressor.load_from_checkpoint(checkpoint_path='/root/' + checkpoint)"
   ]
  },
  {
   "cell_type": "code",
   "execution_count": 105,
   "metadata": {},
   "outputs": [],
   "source": [
    "model.to('cpu');"
   ]
  },
  {
   "cell_type": "code",
   "execution_count": 106,
   "metadata": {},
   "outputs": [
    {
     "data": {
      "image/png": "[encoded data removed]",
      "text/plain": [
       "<Figure size 1440x720 with 1 Axes>"
      ]
     },
     "metadata": {
      "needs_background": "light"
     },
     "output_type": "display_data"
    },
    {
     "name": "stdout",
     "output_type": "stream",
     "text": [
      "RMSE: 257.66683988040637\n"
     ]
    }
   ],
   "source": [
    "plot_price(model, train_df)"
   ]
  },
  {
   "cell_type": "code",
   "execution_count": 107,
   "metadata": {},
   "outputs": [
    {
     "data": {
      "image/png": "[encoded data removed]",
      "text/plain": [
       "<Figure size 1440x720 with 1 Axes>"
      ]
     },
     "metadata": {
      "needs_background": "light"
     },
     "output_type": "display_data"
    },
    {
     "name": "stdout",
     "output_type": "stream",
     "text": [
      "RMSE: 274.51607482425663\n"
     ]
    }
   ],
   "source": [
    "plot_price(model, val_df)"
   ]
  },
  {
   "cell_type": "code",
   "execution_count": 108,
   "metadata": {},
   "outputs": [
    {
     "data": {
      "image/png": "[encoded data removed]",
      "text/plain": [
       "<Figure size 1440x720 with 1 Axes>"
      ]
     },
     "metadata": {
      "needs_background": "light"
     },
     "output_type": "display_data"
    },
    {
     "name": "stdout",
     "output_type": "stream",
     "text": [
      "RMSE: 541.6439322188089\n"
     ]
    }
   ],
   "source": [
    "plot_price(model, test_df)"
   ]
  },
  {
   "cell_type": "code",
   "execution_count": 58,
   "metadata": {},
   "outputs": [],
   "source": [
    "df.Date = pd.to_datetime(df.Date)\n",
    "df['dayofweek'] = df.Date.dt.dayofweek\n",
    "df['dayofweek'] = scaler.fit_transform(df['dayofweek'].values.reshape(-1, 1))"
   ]
  },
  {
   "cell_type": "code",
   "execution_count": 60,
   "metadata": {},
   "outputs": [],
   "source": [
    "df['dayofweek'] = df.Date.dt.dayofweek"
   ]
  },
  {
   "cell_type": "code",
   "execution_count": 64,
   "metadata": {},
   "outputs": [],
   "source": [
    "from sklearn.preprocessing import MinMaxScaler\n",
    "scaler = MinMaxScaler()"
   ]
  },
  {
   "cell_type": "code",
   "execution_count": 67,
   "metadata": {},
   "outputs": [
    {
     "data": {
      "text/plain": [
       "array([4, 0, 1, ..., 3, 4, 0])"
      ]
     },
     "execution_count": 67,
     "metadata": {},
     "output_type": "execute_result"
    }
   ],
   "source": [
    "df['dayofweek'].values"
   ]
  },
  {
   "cell_type": "code",
   "execution_count": 69,
   "metadata": {},
   "outputs": [],
   "source": [
    "df['dayofweek'] = scaler.fit_transform(df['dayofweek'].values.reshape(-1, 1))"
   ]
  },
  {
   "cell_type": "code",
   "execution_count": 71,
   "metadata": {},
   "outputs": [
    {
     "data": {
      "text/html": [
       "<div>\n",
       "<style scoped>\n",
       "    .dataframe tbody tr th:only-of-type {\n",
       "        vertical-align: middle;\n",
       "    }\n",
       "\n",
       "    .dataframe tbody tr th {\n",
       "        vertical-align: top;\n",
       "    }\n",
       "\n",
       "    .dataframe thead th {\n",
       "        text-align: right;\n",
       "    }\n",
       "</style>\n",
       "<table border=\"1\" class=\"dataframe\">\n",
       "  <thead>\n",
       "    <tr style=\"text-align: right;\">\n",
       "      <th></th>\n",
       "      <th>Date</th>\n",
       "      <th>Open</th>\n",
       "      <th>High</th>\n",
       "      <th>Low</th>\n",
       "      <th>Close</th>\n",
       "      <th>Adj Close</th>\n",
       "      <th>Volume</th>\n",
       "      <th>close_log</th>\n",
       "      <th>dayofweek</th>\n",
       "    </tr>\n",
       "  </thead>\n",
       "  <tbody>\n",
       "    <tr>\n",
       "      <th>0</th>\n",
       "      <td>2009-01-02</td>\n",
       "      <td>8772.250000</td>\n",
       "      <td>9065.280273</td>\n",
       "      <td>8760.780273</td>\n",
       "      <td>9034.690430</td>\n",
       "      <td>9034.690430</td>\n",
       "      <td>213700000</td>\n",
       "      <td>NaN</td>\n",
       "      <td>1.00</td>\n",
       "    </tr>\n",
       "    <tr>\n",
       "      <th>1</th>\n",
       "      <td>2009-01-05</td>\n",
       "      <td>9027.129883</td>\n",
       "      <td>9034.370117</td>\n",
       "      <td>8892.360352</td>\n",
       "      <td>8952.889648</td>\n",
       "      <td>8952.889648</td>\n",
       "      <td>233760000</td>\n",
       "      <td>-0.009095</td>\n",
       "      <td>0.00</td>\n",
       "    </tr>\n",
       "    <tr>\n",
       "      <th>2</th>\n",
       "      <td>2009-01-06</td>\n",
       "      <td>8954.570313</td>\n",
       "      <td>9088.059570</td>\n",
       "      <td>8940.950195</td>\n",
       "      <td>9015.099609</td>\n",
       "      <td>9015.099609</td>\n",
       "      <td>215410000</td>\n",
       "      <td>0.006925</td>\n",
       "      <td>0.25</td>\n",
       "    </tr>\n",
       "    <tr>\n",
       "      <th>3</th>\n",
       "      <td>2009-01-07</td>\n",
       "      <td>8996.940430</td>\n",
       "      <td>8996.940430</td>\n",
       "      <td>8719.919922</td>\n",
       "      <td>8769.700195</td>\n",
       "      <td>8769.700195</td>\n",
       "      <td>266710000</td>\n",
       "      <td>-0.027598</td>\n",
       "      <td>0.50</td>\n",
       "    </tr>\n",
       "    <tr>\n",
       "      <th>4</th>\n",
       "      <td>2009-01-08</td>\n",
       "      <td>8769.940430</td>\n",
       "      <td>8770.019531</td>\n",
       "      <td>8651.190430</td>\n",
       "      <td>8742.459961</td>\n",
       "      <td>8742.459961</td>\n",
       "      <td>226620000</td>\n",
       "      <td>-0.003111</td>\n",
       "      <td>0.75</td>\n",
       "    </tr>\n",
       "    <tr>\n",
       "      <th>5</th>\n",
       "      <td>2009-01-09</td>\n",
       "      <td>8738.799805</td>\n",
       "      <td>8769.620117</td>\n",
       "      <td>8576.959961</td>\n",
       "      <td>8599.179688</td>\n",
       "      <td>8599.179688</td>\n",
       "      <td>204300000</td>\n",
       "      <td>-0.016525</td>\n",
       "      <td>1.00</td>\n",
       "    </tr>\n",
       "    <tr>\n",
       "      <th>6</th>\n",
       "      <td>2009-01-12</td>\n",
       "      <td>8599.259766</td>\n",
       "      <td>8602.599609</td>\n",
       "      <td>8421.080078</td>\n",
       "      <td>8473.969727</td>\n",
       "      <td>8473.969727</td>\n",
       "      <td>273550000</td>\n",
       "      <td>-0.014668</td>\n",
       "      <td>0.00</td>\n",
       "    </tr>\n",
       "    <tr>\n",
       "      <th>7</th>\n",
       "      <td>2009-01-13</td>\n",
       "      <td>8474.610352</td>\n",
       "      <td>8522.080078</td>\n",
       "      <td>8376.879883</td>\n",
       "      <td>8448.559570</td>\n",
       "      <td>8448.559570</td>\n",
       "      <td>304050000</td>\n",
       "      <td>-0.003003</td>\n",
       "      <td>0.25</td>\n",
       "    </tr>\n",
       "    <tr>\n",
       "      <th>8</th>\n",
       "      <td>2009-01-14</td>\n",
       "      <td>8446.009766</td>\n",
       "      <td>8446.250000</td>\n",
       "      <td>8140.720215</td>\n",
       "      <td>8200.139648</td>\n",
       "      <td>8200.139648</td>\n",
       "      <td>355050000</td>\n",
       "      <td>-0.029845</td>\n",
       "      <td>0.50</td>\n",
       "    </tr>\n",
       "    <tr>\n",
       "      <th>9</th>\n",
       "      <td>2009-01-15</td>\n",
       "      <td>8196.240234</td>\n",
       "      <td>8286.160156</td>\n",
       "      <td>7995.129883</td>\n",
       "      <td>8212.490234</td>\n",
       "      <td>8212.490234</td>\n",
       "      <td>436660000</td>\n",
       "      <td>0.001505</td>\n",
       "      <td>0.75</td>\n",
       "    </tr>\n",
       "  </tbody>\n",
       "</table>\n",
       "</div>"
      ],
      "text/plain": [
       "        Date         Open         High          Low        Close    Adj Close  \\\n",
       "0 2009-01-02  8772.250000  9065.280273  8760.780273  9034.690430  9034.690430   \n",
       "1 2009-01-05  9027.129883  9034.370117  8892.360352  8952.889648  8952.889648   \n",
       "2 2009-01-06  8954.570313  9088.059570  8940.950195  9015.099609  9015.099609   \n",
       "3 2009-01-07  8996.940430  8996.940430  8719.919922  8769.700195  8769.700195   \n",
       "4 2009-01-08  8769.940430  8770.019531  8651.190430  8742.459961  8742.459961   \n",
       "5 2009-01-09  8738.799805  8769.620117  8576.959961  8599.179688  8599.179688   \n",
       "6 2009-01-12  8599.259766  8602.599609  8421.080078  8473.969727  8473.969727   \n",
       "7 2009-01-13  8474.610352  8522.080078  8376.879883  8448.559570  8448.559570   \n",
       "8 2009-01-14  8446.009766  8446.250000  8140.720215  8200.139648  8200.139648   \n",
       "9 2009-01-15  8196.240234  8286.160156  7995.129883  8212.490234  8212.490234   \n",
       "\n",
       "      Volume  close_log  dayofweek  \n",
       "0  213700000        NaN       1.00  \n",
       "1  233760000  -0.009095       0.00  \n",
       "2  215410000   0.006925       0.25  \n",
       "3  266710000  -0.027598       0.50  \n",
       "4  226620000  -0.003111       0.75  \n",
       "5  204300000  -0.016525       1.00  \n",
       "6  273550000  -0.014668       0.00  \n",
       "7  304050000  -0.003003       0.25  \n",
       "8  355050000  -0.029845       0.50  \n",
       "9  436660000   0.001505       0.75  "
      ]
     },
     "execution_count": 71,
     "metadata": {},
     "output_type": "execute_result"
    }
   ],
   "source": [
    "df[:10]"
   ]
  }
 ],
 "metadata": {
  "kernelspec": {
   "display_name": "bundau",
   "language": "python",
   "name": "bundau"
  },
  "language_info": {
   "codemirror_mode": {
    "name": "ipython",
    "version": 3
   },
   "file_extension": ".py",
   "mimetype": "text/x-python",
   "name": "python",
   "nbconvert_exporter": "python",
   "pygments_lexer": "ipython3",
   "version": "3.6.10"
  }
 },
 "nbformat": 4,
 "nbformat_minor": 4
}
